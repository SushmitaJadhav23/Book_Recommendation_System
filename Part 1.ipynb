{
 "cells": [
  {
   "attachments": {},
   "cell_type": "markdown",
   "metadata": {},
   "source": [
    "## Project Name: Book Recommendation System"
   ]
  },
  {
   "cell_type": "markdown",
   "metadata": {},
   "source": [
    "<img src=\"logo.PNG\">"
   ]
  },
  {
   "cell_type": "markdown",
   "metadata": {},
   "source": [
    "<u>Why do we need Recommendation Systems?</u>\n",
    "* With increasing use of Online shopping, customers have nearly infinite choices. Recommendation systems help customers by finding product and content they care about without wasting their time surfing entire catlog.\n",
    "\n",
    "<u>Uses of Recommendation System?</u><p>\n",
    "    * E-commerce websites\n",
    "    * Social media website \n",
    "    * Music Streaming services \n",
    "    * Online Movie Service \n",
    "    * Online dating applications\n",
    "    * Insurance Companies\n",
    "    * Bank and investment company\n",
    "    \n",
    "<u> Ways of making Recommendations </u>\n",
    "    * Content based recommendation\n",
    "    * Collaborative filtering \n",
    "    * Association Rule Learning\n",
    "    "
   ]
  },
  {
   "cell_type": "markdown",
   "metadata": {},
   "source": [
    "## Business Objective\n",
    "* To improve customer engagement, using predictive analytics to make the 'next step' recommendations to customers as to what books they can purchased.\n",
    "* Based on their profile, i would like to present options to them that other customers with similar profiles have read purchased\n",
    "* Based on their past usage and interactions, i would like to make recommendations for Books they would prefer reading in the near future.\n",
    "* How can i recommend books to long term vs short term customers if they both show similar book purchase pattern?"
   ]
  },
  {
   "cell_type": "markdown",
   "metadata": {},
   "source": [
    "## Importing required library"
   ]
  },
  {
   "cell_type": "code",
   "execution_count": 3,
   "metadata": {},
   "outputs": [],
   "source": [
    "import numpy as np\n",
    "import pandas as pd"
   ]
  },
  {
   "cell_type": "markdown",
   "metadata": {},
   "source": [
    "## Data Gathering\n",
    "\n",
    "In this project, i am considering book a product which i want to "
   ]
  },
  {
   "cell_type": "code",
   "execution_count": 6,
   "metadata": {},
   "outputs": [],
   "source": [
    "data = pd.read_csv('BX-Book-Ratings.csv',\n",
    "                     sep=\";\",\n",
    "                     header=0,\n",
    "                     error_bad_lines=False,\n",
    "                    encoding='latin1',\n",
    "                  names=['user','isbn','rating'])"
   ]
  },
  {
   "cell_type": "code",
   "execution_count": 9,
   "metadata": {},
   "outputs": [],
   "source": [
    "bookFile = 'BX-Books.csv'\n",
    "books = pd.read_csv(bookFile,\n",
    "                    sep=\";\",\n",
    "                    header=0,\n",
    "                    error_bad_lines=False,\n",
    "                    usecols=[0,1,2], \n",
    "                    index_col=0,\n",
    "                    encoding='latin1',\n",
    "                    names=['isbn','title','author'])"
   ]
  },
  {
   "cell_type": "code",
   "execution_count": 10,
   "metadata": {},
   "outputs": [
    {
     "data": {
      "text/html": [
       "<div>\n",
       "<style scoped>\n",
       "    .dataframe tbody tr th:only-of-type {\n",
       "        vertical-align: middle;\n",
       "    }\n",
       "\n",
       "    .dataframe tbody tr th {\n",
       "        vertical-align: top;\n",
       "    }\n",
       "\n",
       "    .dataframe thead th {\n",
       "        text-align: right;\n",
       "    }\n",
       "</style>\n",
       "<table border=\"1\" class=\"dataframe\">\n",
       "  <thead>\n",
       "    <tr style=\"text-align: right;\">\n",
       "      <th></th>\n",
       "      <th>user</th>\n",
       "      <th>isbn</th>\n",
       "      <th>rating</th>\n",
       "    </tr>\n",
       "  </thead>\n",
       "  <tbody>\n",
       "    <tr>\n",
       "      <th>0</th>\n",
       "      <td>276725</td>\n",
       "      <td>034545104X</td>\n",
       "      <td>0</td>\n",
       "    </tr>\n",
       "    <tr>\n",
       "      <th>1</th>\n",
       "      <td>276726</td>\n",
       "      <td>0155061224</td>\n",
       "      <td>5</td>\n",
       "    </tr>\n",
       "  </tbody>\n",
       "</table>\n",
       "</div>"
      ],
      "text/plain": [
       "     user        isbn  rating\n",
       "0  276725  034545104X       0\n",
       "1  276726  0155061224       5"
      ]
     },
     "execution_count": 10,
     "metadata": {},
     "output_type": "execute_result"
    }
   ],
   "source": [
    "data.head(2)"
   ]
  },
  {
   "cell_type": "code",
   "execution_count": 11,
   "metadata": {},
   "outputs": [
    {
     "data": {
      "text/html": [
       "<div>\n",
       "<style scoped>\n",
       "    .dataframe tbody tr th:only-of-type {\n",
       "        vertical-align: middle;\n",
       "    }\n",
       "\n",
       "    .dataframe tbody tr th {\n",
       "        vertical-align: top;\n",
       "    }\n",
       "\n",
       "    .dataframe thead th {\n",
       "        text-align: right;\n",
       "    }\n",
       "</style>\n",
       "<table border=\"1\" class=\"dataframe\">\n",
       "  <thead>\n",
       "    <tr style=\"text-align: right;\">\n",
       "      <th></th>\n",
       "      <th>title</th>\n",
       "      <th>author</th>\n",
       "    </tr>\n",
       "    <tr>\n",
       "      <th>isbn</th>\n",
       "      <th></th>\n",
       "      <th></th>\n",
       "    </tr>\n",
       "  </thead>\n",
       "  <tbody>\n",
       "    <tr>\n",
       "      <th>0195153448</th>\n",
       "      <td>Classical Mythology</td>\n",
       "      <td>Mark P. O. Morford</td>\n",
       "    </tr>\n",
       "    <tr>\n",
       "      <th>0002005018</th>\n",
       "      <td>Clara Callan</td>\n",
       "      <td>Richard Bruce Wright</td>\n",
       "    </tr>\n",
       "  </tbody>\n",
       "</table>\n",
       "</div>"
      ],
      "text/plain": [
       "                          title                author\n",
       "isbn                                                 \n",
       "0195153448  Classical Mythology    Mark P. O. Morford\n",
       "0002005018         Clara Callan  Richard Bruce Wright"
      ]
     },
     "execution_count": 11,
     "metadata": {},
     "output_type": "execute_result"
    }
   ],
   "source": [
    "books.head(2)"
   ]
  },
  {
   "cell_type": "markdown",
   "metadata": {},
   "source": [
    "## Data Cleansing"
   ]
  },
  {
   "cell_type": "code",
   "execution_count": null,
   "metadata": {},
   "outputs": [],
   "source": []
  },
  {
   "cell_type": "markdown",
   "metadata": {},
   "source": [
    "## Exploratory Data Analysis"
   ]
  },
  {
   "cell_type": "code",
   "execution_count": null,
   "metadata": {},
   "outputs": [],
   "source": []
  },
  {
   "cell_type": "markdown",
   "metadata": {},
   "source": [
    "## Data Mining and Predictive Analytics"
   ]
  },
  {
   "attachments": {
    "image.png": {
     "image/png": "[encoded data removed]"
    }
   },
   "cell_type": "markdown",
   "metadata": {},
   "source": [
    "##### ![image.png](attachment:image.png)"
   ]
  },
  {
   "cell_type": "markdown",
   "metadata": {},
   "source": [
    "### Nearest Neighbor Model"
   ]
  },
  {
   "cell_type": "code",
   "execution_count": 5,
   "metadata": {},
   "outputs": [
    {
     "data": {
      "text/plain": [
       "('Angels &amp; Demons', 'Dan Brown')"
      ]
     },
     "execution_count": 5,
     "metadata": {},
     "output_type": "execute_result"
    }
   ],
   "source": [
    "def bookMeta(isbn):\n",
    "    title = books.at[isbn,\"title\"]\n",
    "    author = books.at[isbn,\"author\"]\n",
    "    return title, author\n",
    "bookMeta(\"0671027360\")"
   ]
  },
  {
   "cell_type": "code",
   "execution_count": 7,
   "metadata": {
    "collapsed": true
   },
   "outputs": [],
   "source": [
    "data = data[data[\"isbn\"].isin(books.index)]"
   ]
  },
  {
   "cell_type": "code",
   "execution_count": 6,
   "metadata": {
    "collapsed": true
   },
   "outputs": [],
   "source": [
    "def faveBooks(user,N):\n",
    "    userRatings = data[data[\"user\"]==user]\n",
    "    sortedRatings = pd.DataFrame.sort_values(userRatings,['rating'],ascending=[0])[:N] \n",
    "    sortedRatings[\"title\"] = sortedRatings[\"isbn\"].apply(bookMeta)\n",
    "    return sortedRatings"
   ]
  },
  {
   "cell_type": "code",
   "execution_count": 8,
   "metadata": {},
   "outputs": [
    {
     "data": {
      "text/html": [
       "<div>\n",
       "<table border=\"1\" class=\"dataframe\">\n",
       "  <thead>\n",
       "    <tr style=\"text-align: right;\">\n",
       "      <th></th>\n",
       "      <th>user</th>\n",
       "      <th>isbn</th>\n",
       "      <th>rating</th>\n",
       "      <th>title</th>\n",
       "    </tr>\n",
       "  </thead>\n",
       "  <tbody>\n",
       "    <tr>\n",
       "      <th>844955</th>\n",
       "      <td>204622</td>\n",
       "      <td>0967560500</td>\n",
       "      <td>10</td>\n",
       "      <td>(Natural Hormonal Enhancement, Rob Faigin)</td>\n",
       "    </tr>\n",
       "    <tr>\n",
       "      <th>844935</th>\n",
       "      <td>204622</td>\n",
       "      <td>0671027360</td>\n",
       "      <td>10</td>\n",
       "      <td>(Angels &amp;amp; Demons, Dan Brown)</td>\n",
       "    </tr>\n",
       "    <tr>\n",
       "      <th>844926</th>\n",
       "      <td>204622</td>\n",
       "      <td>0385504209</td>\n",
       "      <td>10</td>\n",
       "      <td>(The Da Vinci Code, Dan Brown)</td>\n",
       "    </tr>\n",
       "    <tr>\n",
       "      <th>844958</th>\n",
       "      <td>204622</td>\n",
       "      <td>097173660X</td>\n",
       "      <td>9</td>\n",
       "      <td>(Life After School Explained, Cap &amp;amp; Compass)</td>\n",
       "    </tr>\n",
       "    <tr>\n",
       "      <th>844920</th>\n",
       "      <td>204622</td>\n",
       "      <td>0060935464</td>\n",
       "      <td>9</td>\n",
       "      <td>(To Kill a Mockingbird, Harper Lee)</td>\n",
       "    </tr>\n",
       "  </tbody>\n",
       "</table>\n",
       "</div>"
      ],
      "text/plain": [
       "          user        isbn  rating  \\\n",
       "844955  204622  0967560500      10   \n",
       "844935  204622  0671027360      10   \n",
       "844926  204622  0385504209      10   \n",
       "844958  204622  097173660X       9   \n",
       "844920  204622  0060935464       9   \n",
       "\n",
       "                                                   title  \n",
       "844955        (Natural Hormonal Enhancement, Rob Faigin)  \n",
       "844935                  (Angels &amp; Demons, Dan Brown)  \n",
       "844926                    (The Da Vinci Code, Dan Brown)  \n",
       "844958  (Life After School Explained, Cap &amp; Compass)  \n",
       "844920               (To Kill a Mockingbird, Harper Lee)  "
      ]
     },
     "execution_count": 8,
     "metadata": {},
     "output_type": "execute_result"
    }
   ],
   "source": [
    "faveBooks(204622,5)"
   ]
  },
  {
   "cell_type": "code",
   "execution_count": 9,
   "metadata": {},
   "outputs": [
    {
     "data": {
      "text/plain": [
       "(1031175, 3)"
      ]
     },
     "execution_count": 9,
     "metadata": {},
     "output_type": "execute_result"
    }
   ],
   "source": [
    "data.shape"
   ]
  },
  {
   "cell_type": "code",
   "execution_count": 10,
   "metadata": {},
   "outputs": [
    {
     "data": {
      "text/plain": [
       "0971880107    2502\n",
       "0316666343    1295\n",
       "0385504209     883\n",
       "0060928336     732\n",
       "0312195516     723\n",
       "044023722X     647\n",
       "0142001740     615\n",
       "067976402X     614\n",
       "0671027360     586\n",
       "0446672211     585\n",
       "Name: isbn, dtype: int64"
      ]
     },
     "execution_count": 10,
     "metadata": {},
     "output_type": "execute_result"
    }
   ],
   "source": [
    "usersPerISBN = data.isbn.value_counts()\n",
    "usersPerISBN.head(10)"
   ]
  },
  {
   "cell_type": "code",
   "execution_count": 11,
   "metadata": {},
   "outputs": [
    {
     "data": {
      "text/plain": [
       "(270170,)"
      ]
     },
     "execution_count": 11,
     "metadata": {},
     "output_type": "execute_result"
    }
   ],
   "source": [
    "usersPerISBN.shape"
   ]
  },
  {
   "cell_type": "code",
   "execution_count": 12,
   "metadata": {
    "collapsed": true
   },
   "outputs": [],
   "source": [
    "ISBNsPerUser = data.user.value_counts()"
   ]
  },
  {
   "cell_type": "code",
   "execution_count": 13,
   "metadata": {},
   "outputs": [
    {
     "data": {
      "text/plain": [
       "(92107,)"
      ]
     },
     "execution_count": 13,
     "metadata": {},
     "output_type": "execute_result"
    }
   ],
   "source": [
    "ISBNsPerUser.shape"
   ]
  },
  {
   "cell_type": "code",
   "execution_count": 14,
   "metadata": {
    "collapsed": true
   },
   "outputs": [],
   "source": [
    "data = data[data[\"isbn\"].isin(usersPerISBN[usersPerISBN>10].index)]"
   ]
  },
  {
   "cell_type": "code",
   "execution_count": 15,
   "metadata": {
    "collapsed": true
   },
   "outputs": [],
   "source": [
    "data = data[data[\"user\"].isin(ISBNsPerUser[ISBNsPerUser>10].index)]"
   ]
  },
  {
   "cell_type": "code",
   "execution_count": 16,
   "metadata": {
    "collapsed": true
   },
   "outputs": [],
   "source": [
    "userItemRatingMatrix=pd.pivot_table(data, values='rating',\n",
    "                                    index=['user'], columns=['isbn'])"
   ]
  },
  {
   "cell_type": "code",
   "execution_count": 17,
   "metadata": {},
   "outputs": [
    {
     "data": {
      "text/html": [
       "<div>\n",
       "<table border=\"1\" class=\"dataframe\">\n",
       "  <thead>\n",
       "    <tr style=\"text-align: right;\">\n",
       "      <th>isbn</th>\n",
       "      <th>0002005018</th>\n",
       "      <th>0002251760</th>\n",
       "      <th>0002259834</th>\n",
       "      <th>0002558122</th>\n",
       "      <th>0006480764</th>\n",
       "      <th>000648302X</th>\n",
       "      <th>0006485200</th>\n",
       "      <th>000649840X</th>\n",
       "      <th>000651202X</th>\n",
       "      <th>0006512062</th>\n",
       "      <th>...</th>\n",
       "      <th>8845906884</th>\n",
       "      <th>8845915611</th>\n",
       "      <th>8878188212</th>\n",
       "      <th>8885989403</th>\n",
       "      <th>9074336329</th>\n",
       "      <th>9074336469</th>\n",
       "      <th>950491036X</th>\n",
       "      <th>9681500830</th>\n",
       "      <th>9681500954</th>\n",
       "      <th>9871138016</th>\n",
       "    </tr>\n",
       "    <tr>\n",
       "      <th>user</th>\n",
       "      <th></th>\n",
       "      <th></th>\n",
       "      <th></th>\n",
       "      <th></th>\n",
       "      <th></th>\n",
       "      <th></th>\n",
       "      <th></th>\n",
       "      <th></th>\n",
       "      <th></th>\n",
       "      <th></th>\n",
       "      <th></th>\n",
       "      <th></th>\n",
       "      <th></th>\n",
       "      <th></th>\n",
       "      <th></th>\n",
       "      <th></th>\n",
       "      <th></th>\n",
       "      <th></th>\n",
       "      <th></th>\n",
       "      <th></th>\n",
       "      <th></th>\n",
       "    </tr>\n",
       "  </thead>\n",
       "  <tbody>\n",
       "    <tr>\n",
       "      <th>8</th>\n",
       "      <td>5.0</td>\n",
       "      <td>NaN</td>\n",
       "      <td>NaN</td>\n",
       "      <td>NaN</td>\n",
       "      <td>NaN</td>\n",
       "      <td>NaN</td>\n",
       "      <td>NaN</td>\n",
       "      <td>NaN</td>\n",
       "      <td>NaN</td>\n",
       "      <td>NaN</td>\n",
       "      <td>...</td>\n",
       "      <td>NaN</td>\n",
       "      <td>NaN</td>\n",
       "      <td>NaN</td>\n",
       "      <td>NaN</td>\n",
       "      <td>NaN</td>\n",
       "      <td>NaN</td>\n",
       "      <td>NaN</td>\n",
       "      <td>NaN</td>\n",
       "      <td>NaN</td>\n",
       "      <td>NaN</td>\n",
       "    </tr>\n",
       "    <tr>\n",
       "      <th>99</th>\n",
       "      <td>NaN</td>\n",
       "      <td>NaN</td>\n",
       "      <td>NaN</td>\n",
       "      <td>NaN</td>\n",
       "      <td>NaN</td>\n",
       "      <td>NaN</td>\n",
       "      <td>NaN</td>\n",
       "      <td>NaN</td>\n",
       "      <td>NaN</td>\n",
       "      <td>NaN</td>\n",
       "      <td>...</td>\n",
       "      <td>NaN</td>\n",
       "      <td>NaN</td>\n",
       "      <td>NaN</td>\n",
       "      <td>NaN</td>\n",
       "      <td>NaN</td>\n",
       "      <td>NaN</td>\n",
       "      <td>NaN</td>\n",
       "      <td>NaN</td>\n",
       "      <td>NaN</td>\n",
       "      <td>NaN</td>\n",
       "    </tr>\n",
       "    <tr>\n",
       "      <th>242</th>\n",
       "      <td>NaN</td>\n",
       "      <td>NaN</td>\n",
       "      <td>NaN</td>\n",
       "      <td>NaN</td>\n",
       "      <td>NaN</td>\n",
       "      <td>NaN</td>\n",
       "      <td>NaN</td>\n",
       "      <td>NaN</td>\n",
       "      <td>NaN</td>\n",
       "      <td>NaN</td>\n",
       "      <td>...</td>\n",
       "      <td>NaN</td>\n",
       "      <td>NaN</td>\n",
       "      <td>NaN</td>\n",
       "      <td>NaN</td>\n",
       "      <td>NaN</td>\n",
       "      <td>NaN</td>\n",
       "      <td>NaN</td>\n",
       "      <td>NaN</td>\n",
       "      <td>NaN</td>\n",
       "      <td>NaN</td>\n",
       "    </tr>\n",
       "    <tr>\n",
       "      <th>243</th>\n",
       "      <td>NaN</td>\n",
       "      <td>NaN</td>\n",
       "      <td>NaN</td>\n",
       "      <td>NaN</td>\n",
       "      <td>NaN</td>\n",
       "      <td>NaN</td>\n",
       "      <td>NaN</td>\n",
       "      <td>NaN</td>\n",
       "      <td>NaN</td>\n",
       "      <td>NaN</td>\n",
       "      <td>...</td>\n",
       "      <td>NaN</td>\n",
       "      <td>NaN</td>\n",
       "      <td>NaN</td>\n",
       "      <td>NaN</td>\n",
       "      <td>NaN</td>\n",
       "      <td>NaN</td>\n",
       "      <td>NaN</td>\n",
       "      <td>NaN</td>\n",
       "      <td>NaN</td>\n",
       "      <td>NaN</td>\n",
       "    </tr>\n",
       "    <tr>\n",
       "      <th>254</th>\n",
       "      <td>NaN</td>\n",
       "      <td>NaN</td>\n",
       "      <td>NaN</td>\n",
       "      <td>NaN</td>\n",
       "      <td>NaN</td>\n",
       "      <td>NaN</td>\n",
       "      <td>NaN</td>\n",
       "      <td>NaN</td>\n",
       "      <td>NaN</td>\n",
       "      <td>NaN</td>\n",
       "      <td>...</td>\n",
       "      <td>NaN</td>\n",
       "      <td>NaN</td>\n",
       "      <td>NaN</td>\n",
       "      <td>NaN</td>\n",
       "      <td>NaN</td>\n",
       "      <td>NaN</td>\n",
       "      <td>NaN</td>\n",
       "      <td>NaN</td>\n",
       "      <td>NaN</td>\n",
       "      <td>NaN</td>\n",
       "    </tr>\n",
       "  </tbody>\n",
       "</table>\n",
       "<p>5 rows × 15451 columns</p>\n",
       "</div>"
      ],
      "text/plain": [
       "isbn  0002005018  0002251760  0002259834  0002558122  0006480764  000648302X  \\\n",
       "user                                                                           \n",
       "8            5.0         NaN         NaN         NaN         NaN         NaN   \n",
       "99           NaN         NaN         NaN         NaN         NaN         NaN   \n",
       "242          NaN         NaN         NaN         NaN         NaN         NaN   \n",
       "243          NaN         NaN         NaN         NaN         NaN         NaN   \n",
       "254          NaN         NaN         NaN         NaN         NaN         NaN   \n",
       "\n",
       "isbn  0006485200  000649840X  000651202X  0006512062     ...      8845906884  \\\n",
       "user                                                     ...                   \n",
       "8            NaN         NaN         NaN         NaN     ...             NaN   \n",
       "99           NaN         NaN         NaN         NaN     ...             NaN   \n",
       "242          NaN         NaN         NaN         NaN     ...             NaN   \n",
       "243          NaN         NaN         NaN         NaN     ...             NaN   \n",
       "254          NaN         NaN         NaN         NaN     ...             NaN   \n",
       "\n",
       "isbn  8845915611  8878188212  8885989403  9074336329  9074336469  950491036X  \\\n",
       "user                                                                           \n",
       "8            NaN         NaN         NaN         NaN         NaN         NaN   \n",
       "99           NaN         NaN         NaN         NaN         NaN         NaN   \n",
       "242          NaN         NaN         NaN         NaN         NaN         NaN   \n",
       "243          NaN         NaN         NaN         NaN         NaN         NaN   \n",
       "254          NaN         NaN         NaN         NaN         NaN         NaN   \n",
       "\n",
       "isbn  9681500830  9681500954  9871138016  \n",
       "user                                      \n",
       "8            NaN         NaN         NaN  \n",
       "99           NaN         NaN         NaN  \n",
       "242          NaN         NaN         NaN  \n",
       "243          NaN         NaN         NaN  \n",
       "254          NaN         NaN         NaN  \n",
       "\n",
       "[5 rows x 15451 columns]"
      ]
     },
     "execution_count": 17,
     "metadata": {},
     "output_type": "execute_result"
    }
   ],
   "source": [
    "userItemRatingMatrix.head()"
   ]
  },
  {
   "cell_type": "code",
   "execution_count": 18,
   "metadata": {},
   "outputs": [
    {
     "data": {
      "text/plain": [
       "(10706, 15451)"
      ]
     },
     "execution_count": 18,
     "metadata": {},
     "output_type": "execute_result"
    }
   ],
   "source": [
    "userItemRatingMatrix.shape"
   ]
  },
  {
   "cell_type": "code",
   "execution_count": 19,
   "metadata": {
    "collapsed": true
   },
   "outputs": [],
   "source": [
    "user1 = 204622\n",
    "user2 = 255489"
   ]
  },
  {
   "cell_type": "code",
   "execution_count": 20,
   "metadata": {},
   "outputs": [
    {
     "data": {
      "text/plain": [
       "isbn\n",
       "0002005018   NaN\n",
       "0002251760   NaN\n",
       "0002259834   NaN\n",
       "0002558122   NaN\n",
       "0006480764   NaN\n",
       "Name: 204622, dtype: float64"
      ]
     },
     "execution_count": 20,
     "metadata": {},
     "output_type": "execute_result"
    }
   ],
   "source": [
    "user1Ratings = userItemRatingMatrix.transpose()[user1]\n",
    "user1Ratings.head()"
   ]
  },
  {
   "cell_type": "code",
   "execution_count": 21,
   "metadata": {
    "collapsed": true
   },
   "outputs": [],
   "source": [
    "user2Ratings = userItemRatingMatrix.transpose()[user2]"
   ]
  },
  {
   "cell_type": "code",
   "execution_count": 22,
   "metadata": {},
   "outputs": [
    {
     "data": {
      "text/plain": [
       "0.99993527926995018"
      ]
     },
     "execution_count": 22,
     "metadata": {},
     "output_type": "execute_result"
    }
   ],
   "source": [
    "from scipy.spatial.distance import hamming \n",
    "hamming(user1Ratings,user2Ratings)"
   ]
  },
  {
   "cell_type": "code",
   "execution_count": 23,
   "metadata": {
    "collapsed": true
   },
   "outputs": [],
   "source": [
    "import numpy as np\n",
    "def distance(user1,user2):\n",
    "        try:\n",
    "            user1Ratings = userItemRatingMatrix.transpose()[user1]\n",
    "            user2Ratings = userItemRatingMatrix.transpose()[user2]\n",
    "            distance = hamming(user1Ratings,user2Ratings)\n",
    "        except: \n",
    "            distance = np.NaN\n",
    "        return distance "
   ]
  },
  {
   "cell_type": "code",
   "execution_count": 24,
   "metadata": {},
   "outputs": [
    {
     "data": {
      "text/plain": [
       "0.99987055853990037"
      ]
     },
     "execution_count": 24,
     "metadata": {},
     "output_type": "execute_result"
    }
   ],
   "source": [
    "distance(204622,10118)"
   ]
  },
  {
   "cell_type": "code",
   "execution_count": 25,
   "metadata": {},
   "outputs": [
    {
     "data": {
      "text/html": [
       "<div>\n",
       "<table border=\"1\" class=\"dataframe\">\n",
       "  <thead>\n",
       "    <tr style=\"text-align: right;\">\n",
       "      <th></th>\n",
       "      <th>user</th>\n",
       "    </tr>\n",
       "  </thead>\n",
       "  <tbody>\n",
       "    <tr>\n",
       "      <th>0</th>\n",
       "      <td>8</td>\n",
       "    </tr>\n",
       "    <tr>\n",
       "      <th>1</th>\n",
       "      <td>99</td>\n",
       "    </tr>\n",
       "    <tr>\n",
       "      <th>2</th>\n",
       "      <td>242</td>\n",
       "    </tr>\n",
       "    <tr>\n",
       "      <th>3</th>\n",
       "      <td>243</td>\n",
       "    </tr>\n",
       "    <tr>\n",
       "      <th>4</th>\n",
       "      <td>254</td>\n",
       "    </tr>\n",
       "  </tbody>\n",
       "</table>\n",
       "</div>"
      ],
      "text/plain": [
       "   user\n",
       "0     8\n",
       "1    99\n",
       "2   242\n",
       "3   243\n",
       "4   254"
      ]
     },
     "execution_count": 25,
     "metadata": {},
     "output_type": "execute_result"
    }
   ],
   "source": [
    "user = 204622\n",
    "allUsers = pd.DataFrame(userItemRatingMatrix.index)\n",
    "allUsers = allUsers[allUsers.user!=user]\n",
    "allUsers.head()"
   ]
  },
  {
   "cell_type": "code",
   "execution_count": 26,
   "metadata": {
    "collapsed": true
   },
   "outputs": [],
   "source": [
    "allUsers[\"distance\"] = allUsers[\"user\"].apply(lambda x: distance(user,x))"
   ]
  },
  {
   "cell_type": "code",
   "execution_count": 27,
   "metadata": {},
   "outputs": [
    {
     "data": {
      "text/html": [
       "<div>\n",
       "<table border=\"1\" class=\"dataframe\">\n",
       "  <thead>\n",
       "    <tr style=\"text-align: right;\">\n",
       "      <th></th>\n",
       "      <th>user</th>\n",
       "      <th>distance</th>\n",
       "    </tr>\n",
       "  </thead>\n",
       "  <tbody>\n",
       "    <tr>\n",
       "      <th>0</th>\n",
       "      <td>8</td>\n",
       "      <td>1.000000</td>\n",
       "    </tr>\n",
       "    <tr>\n",
       "      <th>1</th>\n",
       "      <td>99</td>\n",
       "      <td>1.000000</td>\n",
       "    </tr>\n",
       "    <tr>\n",
       "      <th>2</th>\n",
       "      <td>242</td>\n",
       "      <td>0.999935</td>\n",
       "    </tr>\n",
       "    <tr>\n",
       "      <th>3</th>\n",
       "      <td>243</td>\n",
       "      <td>0.999935</td>\n",
       "    </tr>\n",
       "    <tr>\n",
       "      <th>4</th>\n",
       "      <td>254</td>\n",
       "      <td>1.000000</td>\n",
       "    </tr>\n",
       "  </tbody>\n",
       "</table>\n",
       "</div>"
      ],
      "text/plain": [
       "   user  distance\n",
       "0     8  1.000000\n",
       "1    99  1.000000\n",
       "2   242  0.999935\n",
       "3   243  0.999935\n",
       "4   254  1.000000"
      ]
     },
     "execution_count": 27,
     "metadata": {},
     "output_type": "execute_result"
    }
   ],
   "source": [
    "allUsers.head()"
   ]
  },
  {
   "cell_type": "code",
   "execution_count": 28,
   "metadata": {
    "collapsed": true
   },
   "outputs": [],
   "source": [
    "K = 10\n",
    "KnearestUsers = allUsers.sort_values([\"distance\"],ascending=True)[\"user\"][:K]"
   ]
  },
  {
   "cell_type": "code",
   "execution_count": 29,
   "metadata": {},
   "outputs": [
    {
     "data": {
      "text/plain": [
       "3201     82893\n",
       "3368     87555\n",
       "2624     68555\n",
       "1813     48046\n",
       "5401    140036\n",
       "7584    198711\n",
       "565      16795\n",
       "8866    232131\n",
       "239       7346\n",
       "9693    251422\n",
       "Name: user, dtype: int64"
      ]
     },
     "execution_count": 29,
     "metadata": {},
     "output_type": "execute_result"
    }
   ],
   "source": [
    "KnearestUsers"
   ]
  },
  {
   "cell_type": "code",
   "execution_count": 30,
   "metadata": {
    "collapsed": true
   },
   "outputs": [],
   "source": [
    "def nearestNeighbors(user,K=10):\n",
    "    allUsers = pd.DataFrame(userItemRatingMatrix.index)\n",
    "    allUsers = allUsers[allUsers.user!=user]\n",
    "    allUsers[\"distance\"] = allUsers[\"user\"].apply(lambda x: distance(user,x))\n",
    "    KnearestUsers = allUsers.sort_values([\"distance\"],ascending=True)[\"user\"][:K]\n",
    "    return KnearestUsers"
   ]
  },
  {
   "cell_type": "code",
   "execution_count": 31,
   "metadata": {
    "collapsed": true
   },
   "outputs": [],
   "source": [
    "KnearestUsers = nearestNeighbors(user)"
   ]
  },
  {
   "cell_type": "code",
   "execution_count": 32,
   "metadata": {},
   "outputs": [
    {
     "data": {
      "text/plain": [
       "3201     82893\n",
       "3368     87555\n",
       "2624     68555\n",
       "1813     48046\n",
       "5401    140036\n",
       "7584    198711\n",
       "565      16795\n",
       "8866    232131\n",
       "239       7346\n",
       "9693    251422\n",
       "Name: user, dtype: int64"
      ]
     },
     "execution_count": 32,
     "metadata": {},
     "output_type": "execute_result"
    }
   ],
   "source": [
    "KnearestUsers"
   ]
  },
  {
   "cell_type": "code",
   "execution_count": 33,
   "metadata": {},
   "outputs": [
    {
     "data": {
      "text/html": [
       "<div>\n",
       "<table border=\"1\" class=\"dataframe\">\n",
       "  <thead>\n",
       "    <tr style=\"text-align: right;\">\n",
       "      <th>isbn</th>\n",
       "      <th>0002005018</th>\n",
       "      <th>0002251760</th>\n",
       "      <th>0002259834</th>\n",
       "      <th>0002558122</th>\n",
       "      <th>0006480764</th>\n",
       "      <th>000648302X</th>\n",
       "      <th>0006485200</th>\n",
       "      <th>000649840X</th>\n",
       "      <th>000651202X</th>\n",
       "      <th>0006512062</th>\n",
       "      <th>...</th>\n",
       "      <th>8845906884</th>\n",
       "      <th>8845915611</th>\n",
       "      <th>8878188212</th>\n",
       "      <th>8885989403</th>\n",
       "      <th>9074336329</th>\n",
       "      <th>9074336469</th>\n",
       "      <th>950491036X</th>\n",
       "      <th>9681500830</th>\n",
       "      <th>9681500954</th>\n",
       "      <th>9871138016</th>\n",
       "    </tr>\n",
       "    <tr>\n",
       "      <th>user</th>\n",
       "      <th></th>\n",
       "      <th></th>\n",
       "      <th></th>\n",
       "      <th></th>\n",
       "      <th></th>\n",
       "      <th></th>\n",
       "      <th></th>\n",
       "      <th></th>\n",
       "      <th></th>\n",
       "      <th></th>\n",
       "      <th></th>\n",
       "      <th></th>\n",
       "      <th></th>\n",
       "      <th></th>\n",
       "      <th></th>\n",
       "      <th></th>\n",
       "      <th></th>\n",
       "      <th></th>\n",
       "      <th></th>\n",
       "      <th></th>\n",
       "      <th></th>\n",
       "    </tr>\n",
       "  </thead>\n",
       "  <tbody>\n",
       "    <tr>\n",
       "      <th>7346</th>\n",
       "      <td>NaN</td>\n",
       "      <td>NaN</td>\n",
       "      <td>NaN</td>\n",
       "      <td>NaN</td>\n",
       "      <td>NaN</td>\n",
       "      <td>NaN</td>\n",
       "      <td>NaN</td>\n",
       "      <td>NaN</td>\n",
       "      <td>NaN</td>\n",
       "      <td>NaN</td>\n",
       "      <td>...</td>\n",
       "      <td>NaN</td>\n",
       "      <td>NaN</td>\n",
       "      <td>NaN</td>\n",
       "      <td>NaN</td>\n",
       "      <td>NaN</td>\n",
       "      <td>NaN</td>\n",
       "      <td>NaN</td>\n",
       "      <td>NaN</td>\n",
       "      <td>NaN</td>\n",
       "      <td>NaN</td>\n",
       "    </tr>\n",
       "    <tr>\n",
       "      <th>16795</th>\n",
       "      <td>NaN</td>\n",
       "      <td>NaN</td>\n",
       "      <td>NaN</td>\n",
       "      <td>NaN</td>\n",
       "      <td>NaN</td>\n",
       "      <td>NaN</td>\n",
       "      <td>NaN</td>\n",
       "      <td>NaN</td>\n",
       "      <td>NaN</td>\n",
       "      <td>NaN</td>\n",
       "      <td>...</td>\n",
       "      <td>NaN</td>\n",
       "      <td>NaN</td>\n",
       "      <td>NaN</td>\n",
       "      <td>NaN</td>\n",
       "      <td>NaN</td>\n",
       "      <td>NaN</td>\n",
       "      <td>NaN</td>\n",
       "      <td>NaN</td>\n",
       "      <td>NaN</td>\n",
       "      <td>NaN</td>\n",
       "    </tr>\n",
       "    <tr>\n",
       "      <th>48046</th>\n",
       "      <td>NaN</td>\n",
       "      <td>NaN</td>\n",
       "      <td>NaN</td>\n",
       "      <td>NaN</td>\n",
       "      <td>NaN</td>\n",
       "      <td>NaN</td>\n",
       "      <td>NaN</td>\n",
       "      <td>NaN</td>\n",
       "      <td>NaN</td>\n",
       "      <td>NaN</td>\n",
       "      <td>...</td>\n",
       "      <td>NaN</td>\n",
       "      <td>NaN</td>\n",
       "      <td>NaN</td>\n",
       "      <td>NaN</td>\n",
       "      <td>NaN</td>\n",
       "      <td>NaN</td>\n",
       "      <td>NaN</td>\n",
       "      <td>NaN</td>\n",
       "      <td>NaN</td>\n",
       "      <td>NaN</td>\n",
       "    </tr>\n",
       "    <tr>\n",
       "      <th>68555</th>\n",
       "      <td>NaN</td>\n",
       "      <td>NaN</td>\n",
       "      <td>NaN</td>\n",
       "      <td>NaN</td>\n",
       "      <td>NaN</td>\n",
       "      <td>NaN</td>\n",
       "      <td>NaN</td>\n",
       "      <td>NaN</td>\n",
       "      <td>NaN</td>\n",
       "      <td>NaN</td>\n",
       "      <td>...</td>\n",
       "      <td>NaN</td>\n",
       "      <td>NaN</td>\n",
       "      <td>NaN</td>\n",
       "      <td>NaN</td>\n",
       "      <td>NaN</td>\n",
       "      <td>NaN</td>\n",
       "      <td>NaN</td>\n",
       "      <td>NaN</td>\n",
       "      <td>NaN</td>\n",
       "      <td>NaN</td>\n",
       "    </tr>\n",
       "    <tr>\n",
       "      <th>82893</th>\n",
       "      <td>NaN</td>\n",
       "      <td>NaN</td>\n",
       "      <td>NaN</td>\n",
       "      <td>NaN</td>\n",
       "      <td>NaN</td>\n",
       "      <td>NaN</td>\n",
       "      <td>NaN</td>\n",
       "      <td>NaN</td>\n",
       "      <td>NaN</td>\n",
       "      <td>NaN</td>\n",
       "      <td>...</td>\n",
       "      <td>NaN</td>\n",
       "      <td>NaN</td>\n",
       "      <td>NaN</td>\n",
       "      <td>NaN</td>\n",
       "      <td>NaN</td>\n",
       "      <td>NaN</td>\n",
       "      <td>NaN</td>\n",
       "      <td>NaN</td>\n",
       "      <td>NaN</td>\n",
       "      <td>NaN</td>\n",
       "    </tr>\n",
       "    <tr>\n",
       "      <th>87555</th>\n",
       "      <td>NaN</td>\n",
       "      <td>NaN</td>\n",
       "      <td>NaN</td>\n",
       "      <td>NaN</td>\n",
       "      <td>NaN</td>\n",
       "      <td>NaN</td>\n",
       "      <td>NaN</td>\n",
       "      <td>NaN</td>\n",
       "      <td>NaN</td>\n",
       "      <td>NaN</td>\n",
       "      <td>...</td>\n",
       "      <td>NaN</td>\n",
       "      <td>NaN</td>\n",
       "      <td>NaN</td>\n",
       "      <td>NaN</td>\n",
       "      <td>NaN</td>\n",
       "      <td>NaN</td>\n",
       "      <td>NaN</td>\n",
       "      <td>NaN</td>\n",
       "      <td>NaN</td>\n",
       "      <td>NaN</td>\n",
       "    </tr>\n",
       "    <tr>\n",
       "      <th>140036</th>\n",
       "      <td>NaN</td>\n",
       "      <td>NaN</td>\n",
       "      <td>NaN</td>\n",
       "      <td>NaN</td>\n",
       "      <td>NaN</td>\n",
       "      <td>NaN</td>\n",
       "      <td>NaN</td>\n",
       "      <td>NaN</td>\n",
       "      <td>NaN</td>\n",
       "      <td>NaN</td>\n",
       "      <td>...</td>\n",
       "      <td>NaN</td>\n",
       "      <td>NaN</td>\n",
       "      <td>NaN</td>\n",
       "      <td>NaN</td>\n",
       "      <td>NaN</td>\n",
       "      <td>NaN</td>\n",
       "      <td>NaN</td>\n",
       "      <td>NaN</td>\n",
       "      <td>NaN</td>\n",
       "      <td>NaN</td>\n",
       "    </tr>\n",
       "    <tr>\n",
       "      <th>198711</th>\n",
       "      <td>NaN</td>\n",
       "      <td>NaN</td>\n",
       "      <td>NaN</td>\n",
       "      <td>NaN</td>\n",
       "      <td>NaN</td>\n",
       "      <td>NaN</td>\n",
       "      <td>NaN</td>\n",
       "      <td>NaN</td>\n",
       "      <td>NaN</td>\n",
       "      <td>NaN</td>\n",
       "      <td>...</td>\n",
       "      <td>NaN</td>\n",
       "      <td>NaN</td>\n",
       "      <td>NaN</td>\n",
       "      <td>NaN</td>\n",
       "      <td>NaN</td>\n",
       "      <td>NaN</td>\n",
       "      <td>NaN</td>\n",
       "      <td>NaN</td>\n",
       "      <td>NaN</td>\n",
       "      <td>NaN</td>\n",
       "    </tr>\n",
       "    <tr>\n",
       "      <th>232131</th>\n",
       "      <td>NaN</td>\n",
       "      <td>NaN</td>\n",
       "      <td>NaN</td>\n",
       "      <td>NaN</td>\n",
       "      <td>NaN</td>\n",
       "      <td>NaN</td>\n",
       "      <td>NaN</td>\n",
       "      <td>NaN</td>\n",
       "      <td>NaN</td>\n",
       "      <td>NaN</td>\n",
       "      <td>...</td>\n",
       "      <td>NaN</td>\n",
       "      <td>NaN</td>\n",
       "      <td>NaN</td>\n",
       "      <td>NaN</td>\n",
       "      <td>NaN</td>\n",
       "      <td>NaN</td>\n",
       "      <td>NaN</td>\n",
       "      <td>NaN</td>\n",
       "      <td>NaN</td>\n",
       "      <td>NaN</td>\n",
       "    </tr>\n",
       "    <tr>\n",
       "      <th>251422</th>\n",
       "      <td>NaN</td>\n",
       "      <td>NaN</td>\n",
       "      <td>NaN</td>\n",
       "      <td>NaN</td>\n",
       "      <td>NaN</td>\n",
       "      <td>NaN</td>\n",
       "      <td>NaN</td>\n",
       "      <td>NaN</td>\n",
       "      <td>NaN</td>\n",
       "      <td>NaN</td>\n",
       "      <td>...</td>\n",
       "      <td>NaN</td>\n",
       "      <td>NaN</td>\n",
       "      <td>NaN</td>\n",
       "      <td>NaN</td>\n",
       "      <td>NaN</td>\n",
       "      <td>NaN</td>\n",
       "      <td>NaN</td>\n",
       "      <td>NaN</td>\n",
       "      <td>NaN</td>\n",
       "      <td>NaN</td>\n",
       "    </tr>\n",
       "  </tbody>\n",
       "</table>\n",
       "<p>10 rows × 15451 columns</p>\n",
       "</div>"
      ],
      "text/plain": [
       "isbn    0002005018  0002251760  0002259834  0002558122  0006480764  \\\n",
       "user                                                                 \n",
       "7346           NaN         NaN         NaN         NaN         NaN   \n",
       "16795          NaN         NaN         NaN         NaN         NaN   \n",
       "48046          NaN         NaN         NaN         NaN         NaN   \n",
       "68555          NaN         NaN         NaN         NaN         NaN   \n",
       "82893          NaN         NaN         NaN         NaN         NaN   \n",
       "87555          NaN         NaN         NaN         NaN         NaN   \n",
       "140036         NaN         NaN         NaN         NaN         NaN   \n",
       "198711         NaN         NaN         NaN         NaN         NaN   \n",
       "232131         NaN         NaN         NaN         NaN         NaN   \n",
       "251422         NaN         NaN         NaN         NaN         NaN   \n",
       "\n",
       "isbn    000648302X  0006485200  000649840X  000651202X  0006512062  \\\n",
       "user                                                                 \n",
       "7346           NaN         NaN         NaN         NaN         NaN   \n",
       "16795          NaN         NaN         NaN         NaN         NaN   \n",
       "48046          NaN         NaN         NaN         NaN         NaN   \n",
       "68555          NaN         NaN         NaN         NaN         NaN   \n",
       "82893          NaN         NaN         NaN         NaN         NaN   \n",
       "87555          NaN         NaN         NaN         NaN         NaN   \n",
       "140036         NaN         NaN         NaN         NaN         NaN   \n",
       "198711         NaN         NaN         NaN         NaN         NaN   \n",
       "232131         NaN         NaN         NaN         NaN         NaN   \n",
       "251422         NaN         NaN         NaN         NaN         NaN   \n",
       "\n",
       "isbn       ...      8845906884  8845915611  8878188212  8885989403  \\\n",
       "user       ...                                                       \n",
       "7346       ...             NaN         NaN         NaN         NaN   \n",
       "16795      ...             NaN         NaN         NaN         NaN   \n",
       "48046      ...             NaN         NaN         NaN         NaN   \n",
       "68555      ...             NaN         NaN         NaN         NaN   \n",
       "82893      ...             NaN         NaN         NaN         NaN   \n",
       "87555      ...             NaN         NaN         NaN         NaN   \n",
       "140036     ...             NaN         NaN         NaN         NaN   \n",
       "198711     ...             NaN         NaN         NaN         NaN   \n",
       "232131     ...             NaN         NaN         NaN         NaN   \n",
       "251422     ...             NaN         NaN         NaN         NaN   \n",
       "\n",
       "isbn    9074336329  9074336469  950491036X  9681500830  9681500954  9871138016  \n",
       "user                                                                            \n",
       "7346           NaN         NaN         NaN         NaN         NaN         NaN  \n",
       "16795          NaN         NaN         NaN         NaN         NaN         NaN  \n",
       "48046          NaN         NaN         NaN         NaN         NaN         NaN  \n",
       "68555          NaN         NaN         NaN         NaN         NaN         NaN  \n",
       "82893          NaN         NaN         NaN         NaN         NaN         NaN  \n",
       "87555          NaN         NaN         NaN         NaN         NaN         NaN  \n",
       "140036         NaN         NaN         NaN         NaN         NaN         NaN  \n",
       "198711         NaN         NaN         NaN         NaN         NaN         NaN  \n",
       "232131         NaN         NaN         NaN         NaN         NaN         NaN  \n",
       "251422         NaN         NaN         NaN         NaN         NaN         NaN  \n",
       "\n",
       "[10 rows x 15451 columns]"
      ]
     },
     "execution_count": 33,
     "metadata": {},
     "output_type": "execute_result"
    }
   ],
   "source": [
    "NNRatings = userItemRatingMatrix[userItemRatingMatrix.index.isin(KnearestUsers)]\n",
    "NNRatings"
   ]
  },
  {
   "cell_type": "code",
   "execution_count": 34,
   "metadata": {},
   "outputs": [
    {
     "name": "stderr",
     "output_type": "stream",
     "text": [
      "/Users/swethakolalapudi/anaconda/lib/python2.7/site-packages/numpy/lib/nanfunctions.py:703: RuntimeWarning: Mean of empty slice\n",
      "  warnings.warn(\"Mean of empty slice\", RuntimeWarning)\n"
     ]
    },
    {
     "data": {
      "text/plain": [
       "isbn\n",
       "0007154615    1.5\n",
       "0020125305    0.0\n",
       "0020125607    0.0\n",
       "0020198817    0.0\n",
       "0020198906    8.0\n",
       "dtype: float64"
      ]
     },
     "execution_count": 34,
     "metadata": {},
     "output_type": "execute_result"
    }
   ],
   "source": [
    "avgRating = NNRatings.apply(np.nanmean).dropna()\n",
    "avgRating.head()"
   ]
  },
  {
   "cell_type": "code",
   "execution_count": 35,
   "metadata": {},
   "outputs": [
    {
     "data": {
      "text/plain": [
       "Index([u'006016848X', u'0060935464', u'0140042598', u'0140178724',\n",
       "       u'0142004278', u'0380732238', u'0385504209', u'0425109720',\n",
       "       u'0425152898', u'0440136482', u'0440241162', u'0451191145',\n",
       "       u'0451197127', u'0553096060', u'0671027360', u'0671027387',\n",
       "       u'0671666258', u'0688174574', u'0743225708', u'076790592X',\n",
       "       u'0785264280', u'0786868716', u'0802131867', u'0802132952',\n",
       "       u'0971880107', u'1853260045', u'1853260126', u'1853260207',\n",
       "       u'185326041X', u'1878424114'],\n",
       "      dtype='object', name=u'isbn')"
      ]
     },
     "execution_count": 35,
     "metadata": {},
     "output_type": "execute_result"
    }
   ],
   "source": [
    "booksAlreadyRead = userItemRatingMatrix.transpose()[user].dropna().index\n",
    "booksAlreadyRead"
   ]
  },
  {
   "cell_type": "code",
   "execution_count": 41,
   "metadata": {
    "collapsed": true
   },
   "outputs": [],
   "source": [
    "avgRating = avgRating[~avgRating.index.isin(booksAlreadyRead)]"
   ]
  },
  {
   "cell_type": "code",
   "execution_count": 42,
   "metadata": {
    "collapsed": true
   },
   "outputs": [],
   "source": [
    "N=3\n",
    "topNISBNs = avgRating.sort_values(ascending=False).index[:N]"
   ]
  },
  {
   "cell_type": "code",
   "execution_count": 43,
   "metadata": {},
   "outputs": [
    {
     "data": {
      "text/plain": [
       "0              (Love, Greg &amp; Lauren, Greg Manning)\n",
       "1    (The Two Towers (The Lord of the Rings, Part 2...\n",
       "2    (Harry Potter and the Sorcerer's Stone (Book 1...\n",
       "Name: isbn, dtype: object"
      ]
     },
     "execution_count": 43,
     "metadata": {},
     "output_type": "execute_result"
    }
   ],
   "source": [
    "pd.Series(topNISBNs).apply(bookMeta)"
   ]
  },
  {
   "cell_type": "code",
   "execution_count": 38,
   "metadata": {
    "collapsed": true
   },
   "outputs": [],
   "source": [
    "def topN(user,N=3):\n",
    "    KnearestUsers = nearestNeighbors(user)\n",
    "    NNRatings = userItemRatingMatrix[userItemRatingMatrix.index.isin(KnearestUsers)]\n",
    "    avgRating = NNRatings.apply(np.nanmean).dropna()\n",
    "    booksAlreadyRead = userItemRatingMatrix.transpose()[user].dropna().index\n",
    "    avgRating = avgRating[~avgRating.index.isin(booksAlreadyRead)]\n",
    "    topNISBNs = avgRating.sort_values(ascending=False).index[:N]\n",
    "    return pd.Series(topNISBNs).apply(bookMeta)"
   ]
  },
  {
   "cell_type": "code",
   "execution_count": 39,
   "metadata": {},
   "outputs": [
    {
     "data": {
      "text/html": [
       "<div>\n",
       "<table border=\"1\" class=\"dataframe\">\n",
       "  <thead>\n",
       "    <tr style=\"text-align: right;\">\n",
       "      <th></th>\n",
       "      <th>user</th>\n",
       "      <th>isbn</th>\n",
       "      <th>rating</th>\n",
       "      <th>title</th>\n",
       "    </tr>\n",
       "  </thead>\n",
       "  <tbody>\n",
       "    <tr>\n",
       "      <th>845417</th>\n",
       "      <td>204813</td>\n",
       "      <td>0399149848</td>\n",
       "      <td>10</td>\n",
       "      <td>(Birthright, Nora Roberts)</td>\n",
       "    </tr>\n",
       "    <tr>\n",
       "      <th>845407</th>\n",
       "      <td>204813</td>\n",
       "      <td>0385504209</td>\n",
       "      <td>10</td>\n",
       "      <td>(The Da Vinci Code, Dan Brown)</td>\n",
       "    </tr>\n",
       "    <tr>\n",
       "      <th>845382</th>\n",
       "      <td>204813</td>\n",
       "      <td>0373218036</td>\n",
       "      <td>10</td>\n",
       "      <td>(Truly, Madly Manhattan, Nora Roberts)</td>\n",
       "    </tr>\n",
       "    <tr>\n",
       "      <th>845359</th>\n",
       "      <td>204813</td>\n",
       "      <td>0142001805</td>\n",
       "      <td>10</td>\n",
       "      <td>(The Eyre Affair: A Novel, Jasper Fforde)</td>\n",
       "    </tr>\n",
       "    <tr>\n",
       "      <th>845431</th>\n",
       "      <td>204813</td>\n",
       "      <td>0446527793</td>\n",
       "      <td>10</td>\n",
       "      <td>(The Guardian, Nicholas Sparks)</td>\n",
       "    </tr>\n",
       "    <tr>\n",
       "      <th>845416</th>\n",
       "      <td>204813</td>\n",
       "      <td>0399149392</td>\n",
       "      <td>10</td>\n",
       "      <td>(Chesapeake Blue (Quinn Brothers (Hardcover)),...</td>\n",
       "    </tr>\n",
       "    <tr>\n",
       "      <th>845432</th>\n",
       "      <td>204813</td>\n",
       "      <td>0446531332</td>\n",
       "      <td>9</td>\n",
       "      <td>(Nights in Rodanthe, Nicholas Sparks)</td>\n",
       "    </tr>\n",
       "    <tr>\n",
       "      <th>845434</th>\n",
       "      <td>204813</td>\n",
       "      <td>0446606243</td>\n",
       "      <td>9</td>\n",
       "      <td>(The Tenth Justice, Brad Meltzer)</td>\n",
       "    </tr>\n",
       "    <tr>\n",
       "      <th>845451</th>\n",
       "      <td>204813</td>\n",
       "      <td>0671027360</td>\n",
       "      <td>9</td>\n",
       "      <td>(Angels &amp;amp; Demons, Dan Brown)</td>\n",
       "    </tr>\n",
       "    <tr>\n",
       "      <th>845433</th>\n",
       "      <td>204813</td>\n",
       "      <td>0446532452</td>\n",
       "      <td>9</td>\n",
       "      <td>(The Wedding, Nicholas Sparks)</td>\n",
       "    </tr>\n",
       "  </tbody>\n",
       "</table>\n",
       "</div>"
      ],
      "text/plain": [
       "          user        isbn  rating  \\\n",
       "845417  204813  0399149848      10   \n",
       "845407  204813  0385504209      10   \n",
       "845382  204813  0373218036      10   \n",
       "845359  204813  0142001805      10   \n",
       "845431  204813  0446527793      10   \n",
       "845416  204813  0399149392      10   \n",
       "845432  204813  0446531332       9   \n",
       "845434  204813  0446606243       9   \n",
       "845451  204813  0671027360       9   \n",
       "845433  204813  0446532452       9   \n",
       "\n",
       "                                                    title  \n",
       "845417                         (Birthright, Nora Roberts)  \n",
       "845407                     (The Da Vinci Code, Dan Brown)  \n",
       "845382             (Truly, Madly Manhattan, Nora Roberts)  \n",
       "845359          (The Eyre Affair: A Novel, Jasper Fforde)  \n",
       "845431                    (The Guardian, Nicholas Sparks)  \n",
       "845416  (Chesapeake Blue (Quinn Brothers (Hardcover)),...  \n",
       "845432              (Nights in Rodanthe, Nicholas Sparks)  \n",
       "845434                  (The Tenth Justice, Brad Meltzer)  \n",
       "845451                   (Angels &amp; Demons, Dan Brown)  \n",
       "845433                     (The Wedding, Nicholas Sparks)  "
      ]
     },
     "execution_count": 39,
     "metadata": {},
     "output_type": "execute_result"
    }
   ],
   "source": [
    "faveBooks(204813,10)"
   ]
  },
  {
   "cell_type": "code",
   "execution_count": 40,
   "metadata": {},
   "outputs": [
    {
     "data": {
      "text/plain": [
       "0    (Waiting For Nick (Silhouette Special Edition)...\n",
       "1           (Wringer (Trophy Newbery), Jerry Spinelli)\n",
       "2    (The Star Wars Trilogy: Star Wars, the Empire ...\n",
       "3          (One, Two, Buckle My Shoe, Agatha Christie)\n",
       "4                          (On the Road, Jack Kerouac)\n",
       "5                 (Dead Poets Society, N.H. Kleinbaum)\n",
       "6     (Go Ask Alice (Avon/Flare Book), James Jennings)\n",
       "7                        (Carolina Moon, Nora Roberts)\n",
       "8    (Illusions: The Adventures of a Reluctant Mess...\n",
       "9    (You Just Don't Duct Tape a Baby!: True Tales ...\n",
       "Name: isbn, dtype: object"
      ]
     },
     "execution_count": 40,
     "metadata": {},
     "output_type": "execute_result"
    }
   ],
   "source": [
    "topN(204813,10)"
   ]
  },
  {
   "cell_type": "code",
   "execution_count": null,
   "metadata": {
    "collapsed": true
   },
   "outputs": [],
   "source": []
  },
  {
   "cell_type": "code",
   "execution_count": null,
   "metadata": {
    "collapsed": true
   },
   "outputs": [],
   "source": []
  },
  {
   "cell_type": "code",
   "execution_count": null,
   "metadata": {
    "collapsed": true
   },
   "outputs": [],
   "source": []
  },
  {
   "cell_type": "code",
   "execution_count": null,
   "metadata": {
    "collapsed": true
   },
   "outputs": [],
   "source": []
  },
  {
   "cell_type": "code",
   "execution_count": null,
   "metadata": {
    "collapsed": true
   },
   "outputs": [],
   "source": []
  },
  {
   "cell_type": "code",
   "execution_count": null,
   "metadata": {
    "collapsed": true
   },
   "outputs": [],
   "source": []
  },
  {
   "cell_type": "code",
   "execution_count": null,
   "metadata": {
    "collapsed": true
   },
   "outputs": [],
   "source": []
  },
  {
   "cell_type": "code",
   "execution_count": null,
   "metadata": {
    "collapsed": true
   },
   "outputs": [],
   "source": []
  },
  {
   "cell_type": "code",
   "execution_count": null,
   "metadata": {
    "collapsed": true
   },
   "outputs": [],
   "source": []
  },
  {
   "cell_type": "code",
   "execution_count": null,
   "metadata": {
    "collapsed": true
   },
   "outputs": [],
   "source": []
  },
  {
   "cell_type": "code",
   "execution_count": null,
   "metadata": {
    "collapsed": true
   },
   "outputs": [],
   "source": []
  },
  {
   "cell_type": "code",
   "execution_count": null,
   "metadata": {
    "collapsed": true
   },
   "outputs": [],
   "source": []
  },
  {
   "cell_type": "code",
   "execution_count": null,
   "metadata": {
    "collapsed": true
   },
   "outputs": [],
   "source": []
  },
  {
   "cell_type": "code",
   "execution_count": null,
   "metadata": {
    "collapsed": true
   },
   "outputs": [],
   "source": []
  },
  {
   "cell_type": "code",
   "execution_count": null,
   "metadata": {
    "collapsed": true
   },
   "outputs": [],
   "source": []
  },
  {
   "cell_type": "code",
   "execution_count": null,
   "metadata": {
    "collapsed": true
   },
   "outputs": [],
   "source": []
  },
  {
   "cell_type": "code",
   "execution_count": null,
   "metadata": {
    "collapsed": true
   },
   "outputs": [],
   "source": []
  },
  {
   "cell_type": "code",
   "execution_count": null,
   "metadata": {
    "collapsed": true
   },
   "outputs": [],
   "source": []
  },
  {
   "cell_type": "code",
   "execution_count": null,
   "metadata": {
    "collapsed": true
   },
   "outputs": [],
   "source": []
  },
  {
   "cell_type": "code",
   "execution_count": null,
   "metadata": {
    "collapsed": true
   },
   "outputs": [],
   "source": []
  },
  {
   "cell_type": "code",
   "execution_count": null,
   "metadata": {
    "collapsed": true
   },
   "outputs": [],
   "source": []
  },
  {
   "cell_type": "code",
   "execution_count": null,
   "metadata": {
    "collapsed": true
   },
   "outputs": [],
   "source": []
  },
  {
   "cell_type": "code",
   "execution_count": null,
   "metadata": {
    "collapsed": true
   },
   "outputs": [],
   "source": []
  },
  {
   "cell_type": "code",
   "execution_count": null,
   "metadata": {
    "collapsed": true
   },
   "outputs": [],
   "source": []
  }
 ],
 "metadata": {
  "kernelspec": {
   "display_name": "Python 3",
   "language": "python",
   "name": "python3"
  },
  "language_info": {
   "codemirror_mode": {
    "name": "ipython",
    "version": 3
   },
   "file_extension": ".py",
   "mimetype": "text/x-python",
   "name": "python",
   "nbconvert_exporter": "python",
   "pygments_lexer": "ipython3",
   "version": "3.7.6"
  }
 },
 "nbformat": 4,
 "nbformat_minor": 1
}
